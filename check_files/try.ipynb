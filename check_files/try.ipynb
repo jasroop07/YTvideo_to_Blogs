{
 "cells": [
  {
   "cell_type": "code",
   "execution_count": 3,
   "id": "e363c138",
   "metadata": {},
   "outputs": [],
   "source": [
    "from crewai import  Agent, Task, Crew\n",
    "from youtube_transcript_api import YouTubeTranscriptApi\n",
    "import spacy\n",
    "from nltk.tokenize import sent_tokenize\n",
    "from transformers import pipeline\n"
   ]
  },
  {
   "cell_type": "code",
   "execution_count": 15,
   "id": "eb2caf25",
   "metadata": {},
   "outputs": [
    {
     "name": "stderr",
     "output_type": "stream",
     "text": [
      "/Users/jasroopsingh/Desktop/yt_2_blog/yt_blog/lib/python3.13/site-packages/pydantic/fields.py:1093: PydanticDeprecatedSince20: Using extra keyword arguments on `Field` is deprecated and will be removed. Use `json_schema_extra` instead. (Extra keys: 'required'). Deprecated in Pydantic V2.0 to be removed in V3.0. See Pydantic V2 Migration Guide at https://errors.pydantic.dev/2.11/migration/\n",
      "  warn(\n"
     ]
    },
    {
     "ename": "ImportError",
     "evalue": "cannot import name 'Tool' from 'crewai_tools' (/Users/jasroopsingh/Desktop/yt_2_blog/yt_blog/lib/python3.13/site-packages/crewai_tools/__init__.py)",
     "output_type": "error",
     "traceback": [
      "\u001b[31m---------------------------------------------------------------------------\u001b[39m",
      "\u001b[31mImportError\u001b[39m                               Traceback (most recent call last)",
      "\u001b[36mCell\u001b[39m\u001b[36m \u001b[39m\u001b[32mIn[15]\u001b[39m\u001b[32m, line 1\u001b[39m\n\u001b[32m----> \u001b[39m\u001b[32m1\u001b[39m \u001b[38;5;28;01mfrom\u001b[39;00m\u001b[38;5;250m \u001b[39m\u001b[34;01mcrewai_tools\u001b[39;00m\u001b[38;5;250m \u001b[39m\u001b[38;5;28;01mimport\u001b[39;00m Tool\n",
      "\u001b[31mImportError\u001b[39m: cannot import name 'Tool' from 'crewai_tools' (/Users/jasroopsingh/Desktop/yt_2_blog/yt_blog/lib/python3.13/site-packages/crewai_tools/__init__.py)"
     ]
    }
   ],
   "source": [
    "from crewai_tools import Tool\n"
   ]
  },
  {
   "cell_type": "code",
   "execution_count": 4,
   "id": "44758b02",
   "metadata": {},
   "outputs": [],
   "source": [
    "def extract_transcript_details(youtube_video_url):\n",
    "    try:\n",
    "        video_id=youtube_video_url.split(\"=\")[1]\n",
    "        \n",
    "        transcript_text=YouTubeTranscriptApi.get_transcript(video_id)\n",
    "\n",
    "        transcript = \"\"\n",
    "        for i in transcript_text:\n",
    "            transcript += \" \" + i[\"text\"]\n",
    "\n",
    "        return transcript\n",
    "\n",
    "    except Exception as e:\n",
    "        raise e"
   ]
  },
  {
   "cell_type": "code",
   "execution_count": 5,
   "id": "9ff8f76d",
   "metadata": {},
   "outputs": [
    {
     "name": "stdout",
     "output_type": "stream",
     "text": [
      " I have with me Joe Root after this third test match at Lords. Another hard fought five days in this series. How are you feeling about this win? Uh obviously very excited, very a little bit of relief in there as well. Um another brilliant test match you know I think this series is going to be like that and we you know we still got two more to go. So um yeah it's um it's really pleasing to be on the the right side of the result today. Credit to India the way that they played um took it very deep. We knew it was it was um it was going to be close coming into today, but I think the way that the guys stuck at it there were, you know, the first session in particular, the way that they bowled um taking crucial wickets early um getting ahead of the game and then the way Ben managed it towards the end was was incredible really um and amazing for for um show to get that moment at the end having broken his hand within this game. Um so have to go on and face Jasper Bummer and um and the rest of that seam attack with you know your hand obliterated um show that that fight desire care for the rest of the group was really impressive and then to to get that moment at the end there to win the game clearly with a little bit of fortune but um you know I'm really pleased for him in particular a real team effort but you have to give it to Ben Stokes he's led from the front bowled himself out today um an inspirational leader really inspirational Yeah, absolutely. And and he has been for such a long time for us, you know, and I was captain, he was be the person that you turn to and um in those big moments, he's he's someone that wants to go and grab the game um and make things happen. And um you know, he did that throughout today, even when things got tough, the ball got soft, the pitch was unresponsive. He he was consistently, you know, doing everything he could to to try and bring the game back in our favor. and as well to marry that with his his cool and calm manner as a captain. Um I guess shows what an amazing mind he has but also what a a valuable asset he is to our team and and why um you know everyone in that dressing room wants to play for him. Your 37th test 100 your eighth here at the Lord's cricket ground. There's something about this ground that you really enjoy batting here. Yeah, I mean it was um slightly different wicket to what you normally get here. Um, so it was had to had to find a different sort of approach. Wasn't quite as fluent as I'd like it to be, but that that was the nature of the wicket. And, you know, with the ball going soft, it wasn't, you know, free flowing and you had to sort of manage your game slightly differently. So, um, it was about trying to get get to that total that we knew was going to be competitive on that wicket. And there was some some other brilliant partnerships as well. The the back end, the way that Brighton played um and and the guys at the lower order to to get us up to that score first innings was was excellent. Um but yeah, it was nice to contribute and um felt like I' I've not quite given my best throughout this series as yet. So um nice to to get, you know, get in the series if you like and um and make a valuable contribution which obviously has has led to a great result for us. a tough contested battle always between you and Jasp Bumra. 11 dismissals now. Do you like squaring off against him? Well, yeah, he's he's clearly, you know, one of the great bowlers in test cricket in all formats. So, um you know, you're going to be in for a um a challenge, but that's all part and parcel of it. That's what you want. You want to play against the best and you want to try and perform against the best. And um you know, there's there's times when he's had the better of me, you know, or is it 11 times now you say? But, you know, I've I've also scored quite a few hundreds whilst he's been playing. So, that's, you know, that's the nature of the the game. If you if you play against guys enough times and they're, you know, the best bowler in the world, they're going to get you out. But, it's can you nullify that? Can you score your runs and can you find ways of of helping your team get in positions where you can go on and win games. So, thankfully this week it's worked out in my favor. Um, two more huge games coming up. Um, and you know, it should be a fantastic contest with, you know, the the talent that's on show from both teams. Unfortunate injury for show Basher, but does that mean that you're going to be the lead spinner now in Manchester? I'm not sure about that. I think um well, thankfully now that's not my decision that now I'm no longer captain. I'm not in those discussions. So, um, we'll see what happens further down the line. Um I think most importantly we all enjoy um the result from this week as a group together and um and we take the the week off. You know it's a not only was this five days hard work it was obviously hot um physically demanding for the for the bowlers but mentally as well when you get those close games they they can take a lot out of you. So it's really important that we refresh over the next week or so um and that we're ready and firing for what should be another brilliant test match in Manchester. two back-to-back test matches at Birmingham and now Lords, you have eight days. I'm sure there's a lot of recovery involved, but what other plans do you have for this long range before? Just that really. Um try and recover, get away from the game, try and switch your mind off from it. Uh and make sure when you turn up ready for uh to prepare for the game. You, you know, your your mind is is clear, it's refreshed, and you can throw everything into that week. Joe, thank you so much for talking to us. Congratulations on this win. We'll see you in Manchester. That's very kind. Thank you. Kids.\n"
     ]
    }
   ],
   "source": [
    "transcript=extract_transcript_details(\"https://www.youtube.com/watch?v=84pxFTPsVkY\")\n",
    "print(transcript)"
   ]
  },
  {
   "cell_type": "code",
   "execution_count": 6,
   "id": "2f41aefc",
   "metadata": {},
   "outputs": [
    {
     "name": "stderr",
     "output_type": "stream",
     "text": [
      "[nltk_data] Error loading punkt: <urlopen error [SSL:\n",
      "[nltk_data]     CERTIFICATE_VERIFY_FAILED] certificate verify failed:\n",
      "[nltk_data]     unable to get local issuer certificate (_ssl.c:1018)>\n"
     ]
    }
   ],
   "source": [
    "import nltk\n",
    "nltk.download('punkt')\n",
    "from nltk.tokenize import sent_tokenize\n",
    "\n"
   ]
  },
  {
   "cell_type": "code",
   "execution_count": 11,
   "id": "328e530c",
   "metadata": {},
   "outputs": [
    {
     "name": "stderr",
     "output_type": "stream",
     "text": [
      "[nltk_data] Error loading punkt: <urlopen error [SSL:\n",
      "[nltk_data]     CERTIFICATE_VERIFY_FAILED] certificate verify failed:\n",
      "[nltk_data]     unable to get local issuer certificate (_ssl.c:1018)>\n"
     ]
    },
    {
     "data": {
      "text/plain": [
       "False"
      ]
     },
     "execution_count": 11,
     "metadata": {},
     "output_type": "execute_result"
    }
   ],
   "source": [
    "import nltk\n",
    "nltk.download('punkt')"
   ]
  },
  {
   "cell_type": "code",
   "execution_count": 16,
   "id": "f88075a5",
   "metadata": {},
   "outputs": [],
   "source": [
    "from langchain_google_genai import ChatGoogleGenerativeAI\n"
   ]
  },
  {
   "cell_type": "code",
   "execution_count": 18,
   "id": "c473db63",
   "metadata": {},
   "outputs": [],
   "source": [
    "from dotenv import load_dotenv\n",
    "load_dotenv()\n",
    "import os\n"
   ]
  },
  {
   "cell_type": "code",
   "execution_count": null,
   "id": "8b33c4f6",
   "metadata": {},
   "outputs": [],
   "source": [
    "llm=ChatGoogleGenerativeAI(model=\"gemini-1.5-flash\",\n",
    "                           verbose=True,\n",
    "                           temperature=0.5,\n",
    "                           google_api_key=os.getenv(\"GOOGLE_API_KEY\"))\n",
    "\n",
    "\n"
   ]
  },
  {
   "cell_type": "code",
   "execution_count": 7,
   "id": "f5e050b8",
   "metadata": {},
   "outputs": [
    {
     "name": "stderr",
     "output_type": "stream",
     "text": [
      "Device set to use mps:0\n"
     ]
    }
   ],
   "source": [
    "nlp = spacy.load(\"en_core_web_sm\")\n",
    "summarizer = pipeline(\"summarization\", model=\"facebook/bart-large-cnn\")"
   ]
  },
  {
   "cell_type": "code",
   "execution_count": 12,
   "id": "d6cec2e3",
   "metadata": {},
   "outputs": [],
   "source": [
    "\n",
    "def summarize_large_text(text, max_chunk_words=600):\n",
    "    \"\"\"\n",
    "    Preprocesses, chunks, and summarizes long text using spaCy and BART.\n",
    "    \n",
    "    Args:\n",
    "        text (str): Raw input text (e.g. YouTube transcript).\n",
    "        max_chunk_words (int): Maximum words per chunk (default 600).\n",
    "    \n",
    "    Returns:\n",
    "        str: Final combined summary.\n",
    "    \"\"\"\n",
    "    # Step 1: Preprocess and sentence split using spaCy\n",
    "    doc = nlp(text)\n",
    "    sentences = [sent.text.strip() for sent in doc.sents if len(sent.text.strip()) > 5]\n",
    "\n",
    "    # Step 2: Chunk sentences based on word count\n",
    "    chunks, current_chunk = [], []\n",
    "\n",
    "    for sentence in sentences:\n",
    "        current_len = sum(len(s.split()) for s in current_chunk)\n",
    "        if current_len + len(sentence.split()) < max_chunk_words:\n",
    "            current_chunk.append(sentence)\n",
    "        else:\n",
    "            chunks.append(\" \".join(current_chunk))\n",
    "            current_chunk = [sentence]\n",
    "    if current_chunk:\n",
    "        chunks.append(\" \".join(current_chunk))\n",
    "\n",
    "    # Step 3: Summarize each chunk\n",
    "    summaries = []\n",
    "    for chunk in chunks:\n",
    "        summary = summarizer(chunk, max_length=150, min_length=40, do_sample=False)[0]['summary_text']\n",
    "        summaries.append(summary)\n",
    "\n",
    "    # Step 4: Combine summaries\n",
    "    final_summary = \" \".join(summaries)\n",
    "    return final_summary\n"
   ]
  },
  {
   "cell_type": "code",
   "execution_count": 13,
   "id": "60bed133",
   "metadata": {},
   "outputs": [
    {
     "name": "stdout",
     "output_type": "stream",
     "text": [
      "England captain Joe Root talks to Sportsmail after the third test at Lords. Root: \"Another brilliant test match you know I think this series is going to be like that\" Root's 37th test 100 and eighth at the Lord's cricket ground. I've not quite given my best throughout this series as yet. nice to to get, you know, get in the series if you like and um and make a valuable contribution which has led to a great result for us. a tough contested battle always between you and Jasp Bumra. 11 dismissals now.\n"
     ]
    }
   ],
   "source": [
    "summary=summarize_large_text(transcript)\n",
    "print(summary)"
   ]
  }
 ],
 "metadata": {
  "kernelspec": {
   "display_name": "yt_blog",
   "language": "python",
   "name": "python3"
  },
  "language_info": {
   "codemirror_mode": {
    "name": "ipython",
    "version": 3
   },
   "file_extension": ".py",
   "mimetype": "text/x-python",
   "name": "python",
   "nbconvert_exporter": "python",
   "pygments_lexer": "ipython3",
   "version": "3.13.1"
  }
 },
 "nbformat": 4,
 "nbformat_minor": 5
}
